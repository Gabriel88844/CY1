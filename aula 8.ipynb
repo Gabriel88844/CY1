{
 "cells": [
  {
   "cell_type": "code",
   "execution_count": 7,
   "id": "64e46c81-4195-403e-a4df-0a23f5c9608e",
   "metadata": {},
   "outputs": [
    {
     "name": "stdout",
     "output_type": "stream",
     "text": [
      "Overwriting texto.txt\n"
     ]
    }
   ],
   "source": [
    "%%writefile texto.txt\n",
    "fui nas cordileiras e em alguns museus\n",
    "visitei Santiago"
   ]
  },
  {
   "cell_type": "code",
   "execution_count": 4,
   "id": "25e93b7a-c578-4d84-bfcf-d61861fb9ec4",
   "metadata": {},
   "outputs": [
    {
     "data": {
      "text/plain": [
       "'fui nas cordileiras e em alguns museus\\n'"
      ]
     },
     "execution_count": 4,
     "metadata": {},
     "output_type": "execute_result"
    }
   ],
   "source": [
    "arquivo = open('texto.txt')\n",
    "arquivo.read()"
   ]
  },
  {
   "cell_type": "code",
   "execution_count": 8,
   "id": "0bad007c-27e3-4e84-83d2-45f94f33c84c",
   "metadata": {},
   "outputs": [
    {
     "name": "stdout",
     "output_type": "stream",
     "text": [
      "fui nas cordileiras e em alguns museus\n",
      "\n",
      "visitei Santiago\n",
      "\n"
     ]
    }
   ],
   "source": [
    "arquivo = open('texto.txt')\n",
    "for x in arquivo:\n",
    "    print (x)"
   ]
  }
 ],
 "metadata": {
  "kernelspec": {
   "display_name": "Python 3 (ipykernel)",
   "language": "python",
   "name": "python3"
  },
  "language_info": {
   "codemirror_mode": {
    "name": "ipython",
    "version": 3
   },
   "file_extension": ".py",
   "mimetype": "text/x-python",
   "name": "python",
   "nbconvert_exporter": "python",
   "pygments_lexer": "ipython3",
   "version": "3.11.7"
  }
 },
 "nbformat": 4,
 "nbformat_minor": 5
}
