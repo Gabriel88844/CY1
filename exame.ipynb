{
 "cells": [
  {
   "cell_type": "code",
   "execution_count": null,
   "id": "7779fa81-4b26-46fc-8811-eb1c295228ed",
   "metadata": {},
   "outputs": [],
   "source": [
    "class Prova():\n",
    "    def __init__ (self):\n",
    "        self.questoes = []\n",
    "        self.respostas = []\n",
    "\n",
    "    def mostra_Questoes(self):\n",
    "        print(self.questoes)\n",
    "\n",
    "    def mostra_Respostas(self):\n",
    "        print(self.respostas)\n",
    "\n",
    "    def armazena_Questao_Resposta(self, novaQuestao, novaResposta):\n",
    "        self.questoes.append(novaQuestao)\n",
    "        self.respostas.append(novaResposta)"
   ]
  }
 ],
 "metadata": {
  "kernelspec": {
   "display_name": "Python 3 (ipykernel)",
   "language": "python",
   "name": "python3"
  },
  "language_info": {
   "codemirror_mode": {
    "name": "ipython",
    "version": 3
   },
   "file_extension": ".py",
   "mimetype": "text/x-python",
   "name": "python",
   "nbconvert_exporter": "python",
   "pygments_lexer": "ipython3",
   "version": "3.11.7"
  }
 },
 "nbformat": 4,
 "nbformat_minor": 5
}
