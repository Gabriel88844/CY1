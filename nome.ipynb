{
 "cells": [
  {
   "cell_type": "code",
   "execution_count": 2,
   "id": "ef17192b-1f09-49a9-9e35-bfa48d32e831",
   "metadata": {},
   "outputs": [
    {
     "name": "stdout",
     "output_type": "stream",
     "text": [
      "Gabriel yuichi meneguette\n",
      "Gabriel yuichi mishima\n"
     ]
    }
   ],
   "source": [
    "def sobrenomeNaOrdem(nome, sobrenome1, sobrenome2):\n",
    "    if len (sobrenome2) > len(sobrenome1):\n",
    "        return '{} {} {}'.format(nome, sobrenome1, sobrenome2)\n",
    "    else:\n",
    "        return '{} {} {}'.format(nome, sobrenome2, sobrenome1)\n",
    "print(sobrenomeNaOrdem('Gabriel','yuichi','meneguette'))\n",
    "print(sobrenomeNaOrdem('Gabriel', 'yuichi', 'mishima'))"
   ]
  },
  {
   "cell_type": "code",
   "execution_count": null,
   "id": "394e339b-d435-4f16-aa0b-a0e3ba2af0a3",
   "metadata": {},
   "outputs": [],
   "source": []
  }
 ],
 "metadata": {
  "kernelspec": {
   "display_name": "Python 3 (ipykernel)",
   "language": "python",
   "name": "python3"
  },
  "language_info": {
   "codemirror_mode": {
    "name": "ipython",
    "version": 3
   },
   "file_extension": ".py",
   "mimetype": "text/x-python",
   "name": "python",
   "nbconvert_exporter": "python",
   "pygments_lexer": "ipython3",
   "version": "3.11.7"
  }
 },
 "nbformat": 4,
 "nbformat_minor": 5
}
