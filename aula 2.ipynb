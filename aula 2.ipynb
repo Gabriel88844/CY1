{
 "cells": [
  {
   "cell_type": "code",
   "execution_count": 1,
   "id": "d28a54e1-b3c5-496a-a938-04bc970147bf",
   "metadata": {},
   "outputs": [
    {
     "name": "stdout",
     "output_type": "stream",
     "text": [
      "Olá!\n",
      "Olá, tudo bem?\n",
      "Ctrl+play-Escola de programação de robótica\n"
     ]
    }
   ],
   "source": [
    "# Uma palavra\n",
    "string = 'Olá!'\n",
    "# Uma frase\n",
    "string2 = 'Olá, tudo bem?'\n",
    "# Com aspas duplas\n",
    "string3 = \"Ctrl+play-Escola de programação de robótica\"\n",
    "print(string)\n",
    "print(string2)\n",
    "print(string3)"
   ]
  },
  {
   "cell_type": "code",
   "execution_count": 27,
   "id": "5394b723-9c94-4b2a-95b8-097f0b1f1d7e",
   "metadata": {},
   "outputs": [
    {
     "name": "stdout",
     "output_type": "stream",
     "text": [
      "Gabriel Yuichi Meneguette Mishima\n",
      "Rua Professor Fabio de Souza 1261\n",
      "41 98868-8799\n",
      "11\n",
      "meu nome completo é Gabriel Yuichi Meneguette Mishima\n",
      "Mishima\n",
      "GrluhMeeeii\n",
      "5\n"
     ]
    }
   ],
   "source": [
    "#Nome completo\n",
    "nomecompleto ='Gabriel Yuichi Meneguette Mishima'\n",
    "#endereço\n",
    "endereço = 'Rua Professor Fabio de Souza 1261'\n",
    "#telefone\n",
    "telefone = '41 98868-8799'\n",
    "email = 'gmishima994@gmail.com'\n",
    "print(nomecompleto)\n",
    "print(endereço)\n",
    "print(telefone)\n",
    "print(email.find('@'))\n",
    "print('meu nome completo é {}'.format(nomecompleto))\n",
    "print(nomecompleto[26:33])\n",
    "len(nomecompleto)\n",
    "print(nomecompleto[::3])\n",
    "print(nomecompleto.count('i'))"
   ]
  },
  {
   "cell_type": "code",
   "execution_count": 8,
   "id": "658e9e99-a025-45b6-873e-3c7302f13b7a",
   "metadata": {},
   "outputs": [
    {
     "name": "stdout",
     "output_type": "stream",
     "text": [
      "Athletico PR \n",
      "___VS___ \n",
      "Coritiba\n"
     ]
    }
   ],
   "source": [
    "print('Athletico PR \\n___VS___ \\nCoritiba')"
   ]
  },
  {
   "cell_type": "code",
   "execution_count": 28,
   "id": "a64e1505-a1c1-4770-8f9e-8855465d1d9b",
   "metadata": {},
   "outputs": [
    {
     "name": "stdout",
     "output_type": "stream",
     "text": [
      "gabrielmeneguette\n",
      "gabrielgabrielgabrielgabrielgabrielgabrielgabrielgabrielgabrielgabrielmeneguettemeneguettemeneguettemeneguettemeneguettemeneguettemeneguettemeneguettemeneguettemeneguette\n"
     ]
    }
   ],
   "source": [
    "nome = 'gabriel'\n",
    "sobrenome = 'meneguette'\n",
    "print(nome+sobrenome)\n",
    "print(nome*10+sobrenome*10)"
   ]
  },
  {
   "cell_type": "code",
   "execution_count": 30,
   "id": "785fc506-1b15-4e63-9db3-80745c77efab",
   "metadata": {},
   "outputs": [
    {
     "name": "stdout",
     "output_type": "stream",
     "text": [
      "            CTRL+PLAY - ESCOLA DE PROGRAMAÇÃO DE E ROBÓTICA            \n",
      "            ctrl+play - escola de programação de e robótica            \n",
      "['Ctrl+play', '-', 'Escola', 'de', 'Programação', 'de', 'e', 'Robótica']\n",
      "Ctrl+play - Escola de Programação de e Robótica\n"
     ]
    }
   ],
   "source": [
    "frase ='            Ctrl+play - Escola de Programação de e Robótica            '\n",
    "print(frase.upper())\n",
    "print(frase.lower())\n",
    "print(frase.split())\n",
    "print(frase.strip())"
   ]
  },
  {
   "cell_type": "code",
   "execution_count": 32,
   "id": "f3b3f7f9-2c3f-4bbd-a01e-89c44f13bc4f",
   "metadata": {},
   "outputs": [
    {
     "name": "stdin",
     "output_type": "stream",
     "text": [
      "Qual o seu nome? goku\n"
     ]
    },
    {
     "name": "stdout",
     "output_type": "stream",
     "text": [
      "Prazer em te conhecer, goku!\n",
      "Prazer em te conhecer, goku                !\n",
      "Prazer em te conhecer, goku                !\n",
      "Prazer em te conhecer,                 goku!\n",
      "Prazer em te conhecer,         goku        !\n",
      "Prazer em te conhecer, ========goku========!\n"
     ]
    }
   ],
   "source": [
    "nome = input('Qual o seu nome?')\n",
    "print('Prazer em te conhecer, {}!'. format(nome))\n",
    "print('Prazer em te conhecer, {:20}!'. format(nome))\n",
    "print('Prazer em te conhecer, {:<20}!'. format(nome))\n",
    "print('Prazer em te conhecer, {:>20}!'. format(nome))\n",
    "print('Prazer em te conhecer, {:^20}!'. format(nome))\n",
    "print('Prazer em te conhecer, {:=^20}!'. format(nome))"
   ]
  },
  {
   "cell_type": "code",
   "execution_count": 36,
   "id": "061c9a73-ec4d-4b6a-b755-aab371d3291e",
   "metadata": {},
   "outputs": [
    {
     "name": "stdin",
     "output_type": "stream",
     "text": [
      "digite o time 1 Paysandu\n",
      "digite o time 2 Ibis fc\n"
     ]
    },
    {
     "name": "stdout",
     "output_type": "stream",
     "text": [
      "Paysandu                      \n",
      "++++++++++++++VS++++++++++++++\n",
      "                       Ibis fc\n"
     ]
    }
   ],
   "source": [
    "time1 = input('digite o time 1')\n",
    "time2 = input('digite o time 2')\n",
    "VERSUS= 'VS'\n",
    "print('{:<30}'.format(time1))\n",
    "print('{:+^30}'.format(VERSUS))\n",
    "print('{:>30}'.format(time2))"
   ]
  },
  {
   "cell_type": "code",
   "execution_count": 44,
   "id": "479af8bd-983c-4921-9606-691b1dd3b0a6",
   "metadata": {},
   "outputs": [
    {
     "name": "stdin",
     "output_type": "stream",
     "text": [
      "digite uma frase vandal preludio do caos\n"
     ]
    },
    {
     "name": "stdout",
     "output_type": "stream",
     "text": [
      "3\n",
      "contagem de A 3\n",
      "contagem de E 1\n",
      "contagem de I 1\n",
      "contagem de O 3\n",
      "contagem de U 1\n"
     ]
    }
   ],
   "source": [
    "#Desafio 0\n",
    "frase=input('digite uma frase')\n",
    "print(frase.count(' '))\n",
    "print('contagem de A {}'.format(frase.count('a')))\n",
    "print('contagem de E {}'.format(frase.count('e')))\n",
    "print('contagem de I {}'.format(frase.count('i')))\n",
    "print('contagem de O {}'.format(frase.count('o')))\n",
    "print('contagem de U {}'.format(frase.count('u')))"
   ]
  },
  {
   "cell_type": "code",
   "execution_count": 48,
   "id": "3d7c2220-eb9c-4d7f-8bad-106980892c34",
   "metadata": {},
   "outputs": [
    {
     "name": "stdout",
     "output_type": "stream",
     "text": [
      "C\n",
      "t\n",
      "r\n",
      "l\n",
      "+\n",
      "p\n",
      "l\n",
      "a\n",
      "y\n"
     ]
    }
   ],
   "source": [
    "#Desafio 1\n",
    "sla='Ctrl+play'\n",
    "print(sla[0:1])\n",
    "print(sla[1:2])\n",
    "print(sla[2:3])\n",
    "print(sla[3:4])\n",
    "print(sla[4:5])\n",
    "print(sla[5:6])\n",
    "print(sla[6:7])\n",
    "print(sla[7:8])\n",
    "print(sla[8:9])"
   ]
  }
 ],
 "metadata": {
  "kernelspec": {
   "display_name": "Python 3 (ipykernel)",
   "language": "python",
   "name": "python3"
  },
  "language_info": {
   "codemirror_mode": {
    "name": "ipython",
    "version": 3
   },
   "file_extension": ".py",
   "mimetype": "text/x-python",
   "name": "python",
   "nbconvert_exporter": "python",
   "pygments_lexer": "ipython3",
   "version": "3.11.7"
  }
 },
 "nbformat": 4,
 "nbformat_minor": 5
}
