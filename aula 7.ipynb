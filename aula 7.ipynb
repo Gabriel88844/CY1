{
 "cells": [
  {
   "cell_type": "code",
   "execution_count": 1,
   "id": "6c397056-e8fc-492c-81da-ff6edbbb2562",
   "metadata": {},
   "outputs": [
    {
     "name": "stdout",
     "output_type": "stream",
     "text": [
      "oi\n"
     ]
    }
   ],
   "source": [
    "print('oi')"
   ]
  },
  {
   "cell_type": "code",
   "execution_count": 4,
   "id": "c9807819-c9c0-4b98-87c3-fda76e9f41ce",
   "metadata": {},
   "outputs": [
    {
     "name": "stdout",
     "output_type": "stream",
     "text": [
      "Bem-vindo à Ctrl+Play\n"
     ]
    }
   ],
   "source": [
    "def boas_vindas():\n",
    "    print('Bem-vindo à Ctrl+Play')\n",
    "boas_vindas()"
   ]
  },
  {
   "cell_type": "code",
   "execution_count": 7,
   "id": "dda8065f-ab10-48ac-91c7-d2045d07cfaa",
   "metadata": {},
   "outputs": [
    {
     "name": "stdout",
     "output_type": "stream",
     "text": [
      "Bem-vindo(a) , Gabriel à Ctrl+Play!\n"
     ]
    }
   ],
   "source": [
    "def boas_vindas(nome):\n",
    "    print('Bem-vindo(a) , {} à Ctrl+Play!'.format(nome))\n",
    "boas_vindas('Gabriel')"
   ]
  },
  {
   "cell_type": "code",
   "execution_count": 12,
   "id": "62dbdd16-00ef-4bb1-9402-5fd685a33ced",
   "metadata": {},
   "outputs": [
    {
     "name": "stdout",
     "output_type": "stream",
     "text": [
      "Gente Grande\n",
      "Star Wars\n",
      "Jumanji\n"
     ]
    }
   ],
   "source": [
    "def filme_favorito(titulo):\n",
    "    print(titulo)\n",
    "filme_favorito('Gente Grande')\n",
    "filme_favorito('Star Wars')\n",
    "filme_favorito('Jumanji')"
   ]
  },
  {
   "cell_type": "code",
   "execution_count": 13,
   "id": "dbe8bfbe-8f8f-4827-9c39-dccf90034fd0",
   "metadata": {},
   "outputs": [
    {
     "name": "stdout",
     "output_type": "stream",
     "text": [
      "50.0\n"
     ]
    }
   ],
   "source": [
    "def velocidade(distancia, tempo):\n",
    "    print(distancia/tempo)\n",
    "velocidade(200,4)"
   ]
  },
  {
   "cell_type": "code",
   "execution_count": 14,
   "id": "4c711071-0feb-4278-81b8-70dfe9a17f5c",
   "metadata": {},
   "outputs": [
    {
     "name": "stdout",
     "output_type": "stream",
     "text": [
      "50.0\n"
     ]
    }
   ],
   "source": [
    "def velocidade(distancia, tempo):\n",
    "    print(distancia/tempo)\n",
    "velocidade(tempo=4, distancia=200)"
   ]
  },
  {
   "cell_type": "code",
   "execution_count": 15,
   "id": "5e6169c0-b4d0-4f28-b388-c9f652ef44bd",
   "metadata": {},
   "outputs": [
    {
     "name": "stdout",
     "output_type": "stream",
     "text": [
      "50.0\n"
     ]
    }
   ],
   "source": [
    "def velocidade(tempo, distancia=200):\n",
    "    print(distancia/tempo)\n",
    "velocidade(4)"
   ]
  },
  {
   "cell_type": "code",
   "execution_count": 17,
   "id": "d2267979-92e5-49c3-bce9-5b028c461b52",
   "metadata": {},
   "outputs": [
    {
     "name": "stdout",
     "output_type": "stream",
     "text": [
      "100.0\n"
     ]
    }
   ],
   "source": [
    "def velocidade(tempo, distancia=200):\n",
    "    print(distancia/tempo)\n",
    "velocidade(4,400)"
   ]
  },
  {
   "cell_type": "code",
   "execution_count": 22,
   "id": "fd7d2ecd-25f3-4643-a5b0-f475d27a4d60",
   "metadata": {},
   "outputs": [
    {
     "name": "stdin",
     "output_type": "stream",
     "text": [
      "Digite um numero 8\n",
      "Digite um numero diferente 49\n"
     ]
    },
    {
     "name": "stdout",
     "output_type": "stream",
     "text": [
      "O menor valor entre 8 e 49 é 8\n"
     ]
    }
   ],
   "source": [
    "def menor(x,y):\n",
    "    if x <= y:\n",
    "        return x\n",
    "    else:\n",
    "        return y\n",
    "a = int(input('Digite um numero'))\n",
    "b = int(input('Digite um numero diferente'))\n",
    "print('O menor valor entre {} e {} é {}'.format(a, b, menor(a,b)))"
   ]
  },
  {
   "cell_type": "code",
   "execution_count": 23,
   "id": "db51de63-4563-4b79-a844-46bdf1da190e",
   "metadata": {},
   "outputs": [
    {
     "name": "stdout",
     "output_type": "stream",
     "text": [
      "\n",
      " Preparando um Açai medio com os seguintes ingredientes: \n",
      "- Banana\n",
      "- Granola\n",
      "\n",
      " Preparando um Açai grande com os seguintes ingredientes: \n",
      "- Morango\n",
      "- Kiwi\n",
      "- Leite em po\n",
      "\n",
      " Preparando um Açai pequeno com os seguintes ingredientes: \n",
      "- Banana\n",
      "\n",
      " Preparando um Açai medio com os seguintes ingredientes: \n",
      "- Não gosto de açai\n"
     ]
    }
   ],
   "source": [
    "def prepara_acai(*ingredientes, tamanho= 'medio'):\n",
    "    print('\\n Preparando um Açai {} com os seguintes ingredientes: '.format(tamanho))\n",
    "    for ingredientes in ingredientes:\n",
    "        print('-', ingredientes)\n",
    "prepara_acai('Banana','Granola')\n",
    "prepara_acai('Morango','Kiwi','Leite em po', tamanho ='grande')\n",
    "prepara_acai('Banana',tamanho= 'pequeno')\n",
    "prepara_acai('Não gosto de açai')"
   ]
  },
  {
   "cell_type": "code",
   "execution_count": 30,
   "id": "f729c8ca-8c27-46d4-8512-725bd15eb04b",
   "metadata": {},
   "outputs": [
    {
     "name": "stdout",
     "output_type": "stream",
     "text": [
      "Xique Xique BAH esta localizado no(a) brasil\n",
      "Oslo esta localizado no(a) Noroega\n",
      "Londre esta localizado no(a) Reino Unido\n"
     ]
    }
   ],
   "source": [
    "def cidadeEpais(cidade, pais='brasil'):\n",
    "    print('{} esta localizado no(a) {}'.format(cidade, pais))\n",
    "\n",
    "\n",
    "cidadeEpais('Xique Xique BAH')\n",
    "cidadeEpais('Oslo','Noroega')\n",
    "cidadeEpais('Londre','Reino Unido')"
   ]
  },
  {
   "cell_type": "code",
   "execution_count": 37,
   "id": "cd30e6b4-f2ef-4bd6-841c-684438d3724c",
   "metadata": {},
   "outputs": [
    {
     "name": "stdin",
     "output_type": "stream",
     "text": [
      " 217 14 6\n"
     ]
    },
    {
     "name": "stdout",
     "output_type": "stream",
     "text": [
      "217 eh o maior\n"
     ]
    }
   ],
   "source": [
    "def maior (A,B):\n",
    "    maiorAB=(A + B + abs (A-B))/2\n",
    "    return maiorAB\n",
    "entrada=input().split()\n",
    "A=int(entrada[0])\n",
    "B=int(entrada[1])\n",
    "C=int(entrada[2])\n",
    "x=maior(A,B)\n",
    "y=maior(x,C)\n",
    "print('{:.0f} eh o maior'.format(y))"
   ]
  },
  {
   "cell_type": "code",
   "execution_count": null,
   "id": "9b09d81d-17af-47fb-8d55-278478c55810",
   "metadata": {},
   "outputs": [],
   "source": [
    "def soma (x,y):\n",
    "def sub (x,y):\n",
    "def mult (x,y):\n",
    "def div (x,y):"
   ]
  }
 ],
 "metadata": {
  "kernelspec": {
   "display_name": "Python 3 (ipykernel)",
   "language": "python",
   "name": "python3"
  },
  "language_info": {
   "codemirror_mode": {
    "name": "ipython",
    "version": 3
   },
   "file_extension": ".py",
   "mimetype": "text/x-python",
   "name": "python",
   "nbconvert_exporter": "python",
   "pygments_lexer": "ipython3",
   "version": "3.11.7"
  }
 },
 "nbformat": 4,
 "nbformat_minor": 5
}
