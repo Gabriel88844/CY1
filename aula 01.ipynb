{
 "cells": [
  {
   "cell_type": "code",
   "execution_count": 1,
   "id": "67c91d9e-73a6-432b-a7de-6c8c3490fdc0",
   "metadata": {},
   "outputs": [
    {
     "name": "stdout",
     "output_type": "stream",
     "text": [
      "hello world\n"
     ]
    }
   ],
   "source": [
    "print('hello world')"
   ]
  },
  {
   "cell_type": "code",
   "execution_count": 2,
   "id": "3f778ca5-d0a2-4cd8-bb97-f038307b2b14",
   "metadata": {},
   "outputs": [
    {
     "data": {
      "text/plain": [
       "20"
      ]
     },
     "execution_count": 2,
     "metadata": {},
     "output_type": "execute_result"
    }
   ],
   "source": [
    "#adição\n",
    "12+8"
   ]
  },
  {
   "cell_type": "code",
   "execution_count": 3,
   "id": "71bad967-d986-48c3-857c-59947762ae2e",
   "metadata": {},
   "outputs": [
    {
     "data": {
      "text/plain": [
       "-2"
      ]
     },
     "execution_count": 3,
     "metadata": {},
     "output_type": "execute_result"
    }
   ],
   "source": [
    "#subtração\n",
    "8-10"
   ]
  },
  {
   "cell_type": "code",
   "execution_count": 4,
   "id": "fd7df18b-f4c5-4a00-b3c1-e7ab644d3c16",
   "metadata": {},
   "outputs": [
    {
     "data": {
      "text/plain": [
       "float"
      ]
     },
     "execution_count": 4,
     "metadata": {},
     "output_type": "execute_result"
    }
   ],
   "source": [
    "type (7.9)"
   ]
  },
  {
   "cell_type": "code",
   "execution_count": 5,
   "id": "ca96f213-00ce-40a0-8f18-6b3aa1fb1812",
   "metadata": {},
   "outputs": [
    {
     "data": {
      "text/plain": [
       "int"
      ]
     },
     "execution_count": 5,
     "metadata": {},
     "output_type": "execute_result"
    }
   ],
   "source": [
    "type (10)"
   ]
  },
  {
   "cell_type": "code",
   "execution_count": 6,
   "id": "0cbabd2a-0514-4573-905e-f6c318039301",
   "metadata": {},
   "outputs": [
    {
     "data": {
      "text/plain": [
       "16.666666666666668"
      ]
     },
     "execution_count": 6,
     "metadata": {},
     "output_type": "execute_result"
    }
   ],
   "source": [
    "(1000/60)"
   ]
  },
  {
   "cell_type": "code",
   "execution_count": 7,
   "id": "713d9de1-aad1-480d-b269-9098587769f7",
   "metadata": {},
   "outputs": [
    {
     "data": {
      "text/plain": [
       "16"
      ]
     },
     "execution_count": 7,
     "metadata": {},
     "output_type": "execute_result"
    }
   ],
   "source": [
    "(1000//60)"
   ]
  },
  {
   "cell_type": "code",
   "execution_count": 8,
   "id": "4827dcac-816f-40ef-a121-95f7ecb88891",
   "metadata": {},
   "outputs": [
    {
     "data": {
      "text/plain": [
       "1024"
      ]
     },
     "execution_count": 8,
     "metadata": {},
     "output_type": "execute_result"
    }
   ],
   "source": [
    "(2**10)"
   ]
  },
  {
   "cell_type": "code",
   "execution_count": 10,
   "id": "53424399-b413-4054-8ae3-82978edcb823",
   "metadata": {},
   "outputs": [
    {
     "data": {
      "text/plain": [
       "960"
      ]
     },
     "execution_count": 10,
     "metadata": {},
     "output_type": "execute_result"
    }
   ],
   "source": [
    "16*60"
   ]
  },
  {
   "cell_type": "code",
   "execution_count": 15,
   "id": "14da5df3-4575-4d03-acba-249565c1f754",
   "metadata": {},
   "outputs": [
    {
     "name": "stdout",
     "output_type": "stream",
     "text": [
      "20\n"
     ]
    },
    {
     "name": "stdin",
     "output_type": "stream",
     "text": [
      " 198\n"
     ]
    },
    {
     "name": "stdout",
     "output_type": "stream",
     "text": [
      "198\n"
     ]
    }
   ],
   "source": [
    "#variável\n",
    "numero = 10\n",
    "numero + numero\n",
    "numero = 20\n",
    "numero+numero\n",
    "print(numero)\n",
    "numero=int(input())\n",
    "print(numero)"
   ]
  },
  {
   "cell_type": "code",
   "execution_count": 21,
   "id": "bca2142d-f76f-4d7b-b930-b2ea25dd396d",
   "metadata": {},
   "outputs": [
    {
     "name": "stdin",
     "output_type": "stream",
     "text": [
      "digete o lado do quadrado 6\n"
     ]
    },
    {
     "name": "stdout",
     "output_type": "stream",
     "text": [
      "A area do quadrado é igual a 36\n",
      "O perimetro do quadrado é igual a 24\n"
     ]
    }
   ],
   "source": [
    "#desafio 1 quadrado\n",
    "a=int(input('digete o lado do quadrado'))\n",
    "area_quadrado = a**2\n",
    "perimetro_quadrado = 4*a\n",
    "print('A area do quadrado é igual a {}'.format(area_quadrado))\n",
    "print('O perimetro do quadrado é igual a {}'.format(perimetro_quadrado))"
   ]
  },
  {
   "cell_type": "code",
   "execution_count": 23,
   "id": "74222b08-430f-44c3-a13d-a45a4217f2b0",
   "metadata": {},
   "outputs": [
    {
     "name": "stdin",
     "output_type": "stream",
     "text": [
      "digite o lado 1 e 2 do retangulo 58\n",
      "digite o lado 3 e 4 do retangulo 29\n"
     ]
    },
    {
     "name": "stdout",
     "output_type": "stream",
     "text": [
      "A area do retangulo é igual a 1682\n",
      "O perimetro do retangulo é igual a 174\n"
     ]
    }
   ],
   "source": [
    "#desafio 1 retangulango\n",
    "a=int(input('digite o lado 1 e 2 do retangulo'))\n",
    "b=int(input('digite o lado 3 e 4 do retangulo'))\n",
    "area_retangulo=a*b\n",
    "perimetro_retangulo=2*a+2*b\n",
    "print('A area do retangulo é igual a {}'.format(area_retangulo))\n",
    "print('O perimetro do retangulo é igual a {}'.format(perimetro_retangulo))"
   ]
  },
  {
   "cell_type": "code",
   "execution_count": 27,
   "id": "a36e2a74-f19f-4367-9eb7-4a944ae58d2e",
   "metadata": {
    "scrolled": true
   },
   "outputs": [
    {
     "name": "stdin",
     "output_type": "stream",
     "text": [
      "digite a altura do triangulo retangulo 3\n",
      "digite a base do triangulo retangulo 4\n",
      "digete a hipotenuza do triangulo retangulo 5\n"
     ]
    },
    {
     "name": "stdout",
     "output_type": "stream",
     "text": [
      "A area do triangulo retangulo é igual a 6.0\n",
      "O perimetro do triangulo retangulo é igual a 12\n"
     ]
    }
   ],
   "source": [
    "#desafio 1 triangulo\n",
    "a=int(input('digite a altura do triangulo retangulo'))\n",
    "b=int(input('digite a base do triangulo retangulo'))\n",
    "c=int(input('digete a hipotenuza do triangulo retangulo'))\n",
    "area_triangulo=b*a/2\n",
    "perimetro_triangulo=a+b+c\n",
    "print('A area do triangulo retangulo é igual a {}'.format(area_triangulo))\n",
    "print('O perimetro do triangulo retangulo é igual a {}'.format(perimetro_triangulo))     "
   ]
  },
  {
   "cell_type": "code",
   "execution_count": 31,
   "id": "5cbb4fd0-eb96-4123-9580-f0d1b3430b9e",
   "metadata": {},
   "outputs": [
    {
     "name": "stdin",
     "output_type": "stream",
     "text": [
      "digite o raio do circulo 10\n"
     ]
    },
    {
     "name": "stdout",
     "output_type": "stream",
     "text": [
      "A area do circulo é igual a 314.0\n",
      "O perimetro do circulo é igual a 62.800000000000004\n"
     ]
    }
   ],
   "source": [
    "#desafio 1 circulo\n",
    "r=int(input('digite o raio do circulo'))\n",
    "area_circulo=3.14*r**2\n",
    "perimetro_circulo=2*3.14*r\n",
    "print('A area do circulo é igual a {}'.format(area_circulo))\n",
    "print('O perimetro do circulo é igual a {}'.format(perimetro_circulo))"
   ]
  },
  {
   "cell_type": "code",
   "execution_count": 33,
   "id": "bd3e79e2-48a8-4c41-afaf-f236efb65ef4",
   "metadata": {},
   "outputs": [
    {
     "name": "stdin",
     "output_type": "stream",
     "text": [
      "digite o numero do funcionario 67895\n",
      "digite as horas trabalhadas 120\n",
      "digite o valor que ele ganha por hora 6\n"
     ]
    },
    {
     "name": "stdout",
     "output_type": "stream",
     "text": [
      "o funcionario numero 67895\n",
      "recebeu 720.0\n"
     ]
    }
   ],
   "source": [
    "#desafio 3 salario\n",
    "n=int(input('digite o numero do funcionario'))\n",
    "ht=int(input('digite as horas trabalhadas'))\n",
    "vh=float(input('digite o valor que ele ganha por hora'))\n",
    "salario=ht*vh\n",
    "print('o funcionario numero {}'.format(n))\n",
    "print('recebeu {}'.format(salario))"
   ]
  },
  {
   "cell_type": "code",
   "execution_count": 2,
   "id": "16c41ab2-f9bd-4b8a-bf70-4e740ddd383c",
   "metadata": {},
   "outputs": [
    {
     "name": "stdin",
     "output_type": "stream",
     "text": [
      "digite um numero inteiro 3\n"
     ]
    },
    {
     "name": "stdout",
     "output_type": "stream",
     "text": [
      "o sucessor de 3 é 4\n",
      "o antecessor de 3 é 2\n"
     ]
    }
   ],
   "source": [
    "#tarefa de casa\n",
    "numero=int(input('digite um numero inteiro'))\n",
    "print('o sucessor de {} é {}'.format(numero,numero+1))\n",
    "print('o antecessor de {} é {}'.format(numero,numero-1))"
   ]
  }
 ],
 "metadata": {
  "kernelspec": {
   "display_name": "Python 3 (ipykernel)",
   "language": "python",
   "name": "python3"
  },
  "language_info": {
   "codemirror_mode": {
    "name": "ipython",
    "version": 3
   },
   "file_extension": ".py",
   "mimetype": "text/x-python",
   "name": "python",
   "nbconvert_exporter": "python",
   "pygments_lexer": "ipython3",
   "version": "3.11.7"
  }
 },
 "nbformat": 4,
 "nbformat_minor": 5
}
