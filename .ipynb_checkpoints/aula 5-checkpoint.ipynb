{
 "cells": [
  {
   "cell_type": "code",
   "execution_count": 2,
   "id": "3bd17c73-1cd6-4856-9411-b3f0b16f27a6",
   "metadata": {},
   "outputs": [
    {
     "name": "stdout",
     "output_type": "stream",
     "text": [
      "1\n",
      "2\n",
      "3\n",
      "4\n",
      "5\n",
      "6\n",
      "7\n",
      "8\n",
      "9\n",
      "10\n"
     ]
    }
   ],
   "source": [
    "print('1')\n",
    "print('2')\n",
    "print('3')\n",
    "print('4')\n",
    "print('5')\n",
    "print('6')\n",
    "print('7')\n",
    "print('8')\n",
    "print('9')\n",
    "print('10')"
   ]
  },
  {
   "cell_type": "code",
   "execution_count": 6,
   "id": "101335f3-efa5-479a-b1b7-d440b04d30c2",
   "metadata": {},
   "outputs": [
    {
     "name": "stdout",
     "output_type": "stream",
     "text": [
      "1\n",
      "2\n",
      "3\n",
      "4\n",
      "5\n",
      "6\n",
      "7\n",
      "8\n",
      "9\n",
      "10\n",
      "1\n",
      "2\n",
      "3\n",
      "4\n",
      "5\n",
      "6\n",
      "7\n",
      "8\n",
      "9\n",
      "10\n",
      "11\n",
      "12\n",
      "13\n",
      "14\n",
      "15\n",
      "16\n",
      "17\n",
      "18\n",
      "19\n",
      "20\n",
      "21\n",
      "22\n",
      "23\n",
      "24\n",
      "25\n",
      "26\n",
      "27\n",
      "28\n",
      "29\n",
      "30\n",
      "31\n",
      "32\n",
      "33\n",
      "34\n",
      "35\n",
      "36\n",
      "37\n",
      "38\n",
      "39\n",
      "40\n",
      "41\n",
      "42\n",
      "43\n",
      "44\n",
      "45\n",
      "46\n",
      "47\n",
      "48\n",
      "49\n",
      "50\n"
     ]
    }
   ],
   "source": [
    "\n",
    "for c in range(1,11):\n",
    "    print(c)\n",
    "for c in range(1,51):\n",
    "    print(c)"
   ]
  },
  {
   "cell_type": "code",
   "execution_count": 7,
   "id": "872cfac3-cb88-4762-a06b-af20bab956ff",
   "metadata": {},
   "outputs": [
    {
     "name": "stdout",
     "output_type": "stream",
     "text": [
      "ovos\n",
      "banana\n",
      "leite\n",
      "farinha\n",
      "pão\n",
      "suco\n"
     ]
    }
   ],
   "source": [
    "lista=['ovos','banana','leite','farinha','pão','suco']\n",
    "for item in lista:\n",
    "     print(item)"
   ]
  },
  {
   "cell_type": "code",
   "execution_count": 10,
   "id": "6783d1d3-1118-4062-9f4f-a0f80055590d",
   "metadata": {},
   "outputs": [
    {
     "name": "stdout",
     "output_type": "stream",
     "text": [
      "2\n",
      "4\n",
      "6\n",
      "8\n",
      "10\n",
      "1\n",
      "3\n",
      "5\n",
      "7\n",
      "9\n"
     ]
    }
   ],
   "source": [
    "for num in range(1,11):\n",
    "    if num%2==0:\n",
    "        print(num)\n",
    "for num in range(1,11):\n",
    "    if num%2!=0:\n",
    "        print(num)"
   ]
  },
  {
   "cell_type": "code",
   "execution_count": 11,
   "id": "70d63e44-a170-4ca6-afe3-1d32e7e637ae",
   "metadata": {},
   "outputs": [
    {
     "name": "stdout",
     "output_type": "stream",
     "text": [
      "1\n",
      "6\n",
      "11\n",
      "16\n",
      "21\n",
      "26\n",
      "31\n",
      "36\n",
      "41\n",
      "46\n",
      "51\n",
      "56\n",
      "61\n",
      "66\n",
      "71\n",
      "76\n",
      "81\n",
      "86\n",
      "91\n",
      "96\n"
     ]
    }
   ],
   "source": [
    "for num in range(1,100,5):\n",
    "        print(num)"
   ]
  },
  {
   "cell_type": "code",
   "execution_count": 12,
   "id": "9ab7c0b4-d77d-45c8-a615-70c6d3c3ef09",
   "metadata": {},
   "outputs": [
    {
     "name": "stdout",
     "output_type": "stream",
     "text": [
      "g\n",
      "a\n",
      "b\n",
      "r\n",
      "i\n",
      "e\n",
      "l\n",
      " \n",
      "y\n",
      "u\n",
      "i\n",
      "c\n",
      "h\n",
      "i\n",
      " \n",
      "m\n",
      "e\n",
      "n\n",
      "e\n",
      "g\n",
      "u\n",
      "e\n",
      "t\n",
      "t\n",
      "e\n",
      " \n",
      "m\n",
      "i\n",
      "s\n",
      "h\n",
      "i\n",
      "m\n",
      "a\n"
     ]
    }
   ],
   "source": [
    "for letra in 'gabriel yuichi meneguette mishima':\n",
    "    print(letra)\n"
   ]
  },
  {
   "cell_type": "code",
   "execution_count": 13,
   "id": "0a396ddb-6b19-48f8-9537-3801a3d91442",
   "metadata": {},
   "outputs": [
    {
     "name": "stdout",
     "output_type": "stream",
     "text": [
      "1\n",
      "2\n",
      "3\n",
      "4\n",
      "5\n",
      "6\n",
      "7\n",
      "8\n",
      "9\n",
      "10\n"
     ]
    }
   ],
   "source": [
    "cont=1\n",
    "while cont<11:\n",
    "    print(cont)\n",
    "    cont=cont+1"
   ]
  },
  {
   "cell_type": "code",
   "execution_count": 16,
   "id": "519b9e88-a3e3-4963-acaa-89b9aeda23dd",
   "metadata": {},
   "outputs": [
    {
     "name": "stdin",
     "output_type": "stream",
     "text": [
      "digite um nome gabriel\n",
      "digite um nome joao\n",
      "digite um nome gustavo\n",
      "digite um nome leonardo\n",
      "digite um nome pedro\n"
     ]
    },
    {
     "name": "stdout",
     "output_type": "stream",
     "text": [
      "['gabriel', 'joao', 'gustavo', 'leonardo', 'pedro']\n"
     ]
    }
   ],
   "source": [
    "lista=[]\n",
    "pessoas=0\n",
    "while pessoas<5:\n",
    "    nome=input('digite um nome')\n",
    "    lista.append(nome)\n",
    "    pessoas=pessoas+1\n",
    "print(lista)"
   ]
  },
  {
   "cell_type": "code",
   "execution_count": 18,
   "id": "e31ed4e7-5be1-479b-9da9-a3fd1bcdf5e7",
   "metadata": {},
   "outputs": [
    {
     "name": "stdout",
     "output_type": "stream",
     "text": [
      "105\n",
      "14\n"
     ]
    }
   ],
   "source": [
    "soma = 0\n",
    "numeros = range(1,1000)\n",
    "i = 0\n",
    "while soma < 100:\n",
    "    soma += numeros[i]\n",
    "    i += 1\n",
    "print(soma)\n",
    "print(i)"
   ]
  },
  {
   "cell_type": "code",
   "execution_count": 24,
   "id": "2b8bef7a-1c17-47af-a890-6953c295b86e",
   "metadata": {},
   "outputs": [
    {
     "name": "stdout",
     "output_type": "stream",
     "text": [
      "[9, 28, 24, 1, 34, 13]\n"
     ]
    }
   ],
   "source": [
    "from random import randint\n",
    "telesena=[]\n",
    "numeros = randint(1,50)\n",
    "i = 0\n",
    "while i < 6:\n",
    "    telesena.append(randint(1,50))\n",
    "    i+=1\n",
    "print(telesena)"
   ]
  },
  {
   "cell_type": "code",
   "execution_count": 36,
   "id": "25f9a34b-f7ed-42b4-94c4-c2f98897cd24",
   "metadata": {},
   "outputs": [
    {
     "name": "stdout",
     "output_type": "stream",
     "text": [
      "[13, 17, 50, 9, 41, 51]\n",
      "[57, 13, 4, 10, 44, 28]\n",
      "[39, 23, 4, 39, 47, 2]\n",
      "[32, 30, 58, 5, 28, 8]\n",
      "[2, 27, 17, 13, 15, 60]\n",
      "[47, 45, 48, 50, 21, 5]\n",
      "[46, 35, 20, 11, 10, 14]\n",
      "[10, 51, 47, 6, 33, 27]\n",
      "[5, 24, 45, 48, 8, 12]\n",
      "[32, 14, 29, 58, 41, 41]\n"
     ]
    }
   ],
   "source": [
    "from random import randint\n",
    "megasena=[]\n",
    "numeros = randint(1,60)\n",
    "i = 0\n",
    "i=jogo=0\n",
    "while jogo <  10:\n",
    "    while i < 6:\n",
    "        megasena.append(randint(1,60))\n",
    "        i+=1\n",
    "    print(megasena)\n",
    "    i=0\n",
    "    megasena=[]\n",
    "    jogo+=1"
   ]
  },
  {
   "cell_type": "code",
   "execution_count": 43,
   "id": "ceaace05-0aaa-4bdc-bf0d-071bf0b81fd7",
   "metadata": {},
   "outputs": [
    {
     "name": "stdout",
     "output_type": "stream",
     "text": [
      "\n",
      "    [1] continuar\n",
      "    [2] sair\n",
      "    \n"
     ]
    },
    {
     "name": "stdin",
     "output_type": "stream",
     "text": [
      "Qual sua opção 1\n",
      "Digite um time athletico pr\n"
     ]
    },
    {
     "name": "stdout",
     "output_type": "stream",
     "text": [
      "\n",
      "    [1] continuar\n",
      "    [2] sair\n",
      "    \n"
     ]
    },
    {
     "name": "stdin",
     "output_type": "stream",
     "text": [
      "Qual sua opção 1\n",
      "Digite um time paysandu\n"
     ]
    },
    {
     "name": "stdout",
     "output_type": "stream",
     "text": [
      "\n",
      "    [1] continuar\n",
      "    [2] sair\n",
      "    \n"
     ]
    },
    {
     "name": "stdin",
     "output_type": "stream",
     "text": [
      "Qual sua opção 2\n"
     ]
    },
    {
     "name": "stdout",
     "output_type": "stream",
     "text": [
      "Obrigado\n",
      "['athletico pr', 'paysandu']\n"
     ]
    }
   ],
   "source": [
    "lista=[]\n",
    "while True:\n",
    "    print('''\n",
    "    [1] continuar\n",
    "    [2] sair\n",
    "    ''')\n",
    "    opção = input ('Qual sua opção')\n",
    "    if opção == '1':\n",
    "        time = input ('Digite um time')\n",
    "        lista.append(time)\n",
    "    if opção == '2' :\n",
    "        print('Obrigado')\n",
    "        break\n",
    "print(lista)"
   ]
  },
  {
   "cell_type": "code",
   "execution_count": 45,
   "id": "fd8638ed-a3e4-47a5-9ffd-32dab894ca17",
   "metadata": {},
   "outputs": [
    {
     "name": "stdin",
     "output_type": "stream",
     "text": [
      " 85\n"
     ]
    },
    {
     "name": "stdout",
     "output_type": "stream",
     "text": [
      "0 1 1 2 3 5 8 13 21 34 55 89 144 233 377 610 987 1597 2584 4181 6765 10946 17711 28657 46368 75025 121393 196418 317811 514229 832040 1346269 2178309 3524578 5702887 9227465 14930352 24157817 39088169 63245986 102334155 165580141 267914296 433494437 701408733 1134903170 1836311903 2971215073 4807526976 7778742049 12586269025 20365011074 32951280099 53316291173 86267571272 139583862445 225851433717 365435296162 591286729879 956722026041 1548008755920 2504730781961 4052739537881 6557470319842 10610209857723 17167680177565 27777890035288 44945570212853 72723460248141 117669030460994 190392490709135 308061521170129 498454011879264 806515533049393 1304969544928657 2111485077978050 3416454622906707 5527939700884757 8944394323791464 14472334024676221 23416728348467685 37889062373143906 61305790721611591 99194853094755497 160500643816367088\n"
     ]
    }
   ],
   "source": [
    "n=int(input())\n",
    "fb1 = 0\n",
    "fb2 = 1\n",
    "if n == 1:\n",
    "    print('{}'.format (fb1), end+' ')\n",
    "if n == 1:\n",
    "    print('{} {}'.format(fb1, fb2), end= ' ')\n",
    "if n >= 3:\n",
    "    print('{} {}'.format(fb1, fb2), end=' ')\n",
    "    for cont in range (3,n+1):\n",
    "        fb3 = fb1 + fb2\n",
    "        fb1 = fb2\n",
    "        fb2 = fb3\n",
    "        if cont == n:\n",
    "            print('{}'.format(fb3))\n",
    "        else:\n",
    "            print('{}'.format(fb3), end=' ')"
   ]
  }
 ],
 "metadata": {
  "kernelspec": {
   "display_name": "Python 3 (ipykernel)",
   "language": "python",
   "name": "python3"
  },
  "language_info": {
   "codemirror_mode": {
    "name": "ipython",
    "version": 3
   },
   "file_extension": ".py",
   "mimetype": "text/x-python",
   "name": "python",
   "nbconvert_exporter": "python",
   "pygments_lexer": "ipython3",
   "version": "3.11.7"
  }
 },
 "nbformat": 4,
 "nbformat_minor": 5
}
