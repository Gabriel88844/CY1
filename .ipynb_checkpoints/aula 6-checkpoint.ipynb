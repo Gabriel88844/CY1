{
 "cells": [
  {
   "cell_type": "code",
   "execution_count": 23,
   "id": "8a2c8974-bfb2-4c0a-a004-3812fe26683e",
   "metadata": {},
   "outputs": [
    {
     "name": "stdout",
     "output_type": "stream",
     "text": [
      "('tres', True, 4.5)\n",
      "4.5\n",
      "('um', 2, 'tres')\n"
     ]
    }
   ],
   "source": [
    "t = ('um',2,'tres',True,4.5,'cinco',False)\n",
    "print(t[2:5])\n",
    "print(t[4])\n",
    "print(t[0:3])"
   ]
  },
  {
   "cell_type": "code",
   "execution_count": 37,
   "id": "cbc149aa-fd02-4eb2-bbf3-62443043d0b5",
   "metadata": {},
   "outputs": [
    {
     "name": "stdout",
     "output_type": "stream",
     "text": [
      "11\n",
      "6\n",
      "2\n"
     ]
    },
    {
     "ename": "TypeError",
     "evalue": "'tuple' object does not support item assignment",
     "output_type": "error",
     "traceback": [
      "\u001b[1;31m---------------------------------------------------------------------------\u001b[0m",
      "\u001b[1;31mTypeError\u001b[0m                                 Traceback (most recent call last)",
      "Cell \u001b[1;32mIn[37], line 5\u001b[0m\n\u001b[0;32m      3\u001b[0m \u001b[38;5;28mprint\u001b[39m(t\u001b[38;5;241m.\u001b[39mindex(\u001b[38;5;241m7\u001b[39m))\n\u001b[0;32m      4\u001b[0m \u001b[38;5;28mprint\u001b[39m(t\u001b[38;5;241m.\u001b[39mcount(\u001b[38;5;241m2\u001b[39m))\n\u001b[1;32m----> 5\u001b[0m t[\u001b[38;5;241m0\u001b[39m]\u001b[38;5;241m=\u001b[39m\u001b[38;5;241m20\u001b[39m\n",
      "\u001b[1;31mTypeError\u001b[0m: 'tuple' object does not support item assignment"
     ]
    }
   ],
   "source": [
    "t = (1,2,3,4,5,6,7,8,9,10,2)\n",
    "print(len(t))\n",
    "print(t.index(7))\n",
    "print(t.count(2))\n",
    "t[0]=20"
   ]
  },
  {
   "cell_type": "code",
   "execution_count": 39,
   "id": "4b2036cf-ae1d-4b5b-bbee-2766f6c2d4bf",
   "metadata": {},
   "outputs": [
    {
     "name": "stdout",
     "output_type": "stream",
     "text": [
      "{1, 2}\n",
      "{1, 2}\n",
      "2\n"
     ]
    }
   ],
   "source": [
    "x = set()\n",
    "x.add(1)\n",
    "x.add(2)\n",
    "print(x)\n",
    "x.add(1)\n",
    "print(x)\n",
    "print(len(x))"
   ]
  },
  {
   "cell_type": "code",
   "execution_count": 42,
   "id": "da949dff-49aa-4fe4-8a9f-bf6dda53316e",
   "metadata": {},
   "outputs": [
    {
     "name": "stdout",
     "output_type": "stream",
     "text": [
      "True False False True None\n"
     ]
    }
   ],
   "source": [
    "a = True\n",
    "b = False\n",
    "c = 1<2 and 5>10\n",
    "d = 7>10 or 15>5\n",
    "e = None\n",
    "print(a, b, c, d, e)"
   ]
  },
  {
   "cell_type": "code",
   "execution_count": 48,
   "id": "1ff3bef8-8253-4263-9edb-d3a72b976847",
   "metadata": {},
   "outputs": [
    {
     "name": "stdout",
     "output_type": "stream",
     "text": [
      "dict_values(['Star wars', '1977', 'George Lucas'])\n",
      "dict_keys(['titulo', 'Ano de lançamento', 'Diretor'])\n",
      "dict_items([('titulo', 'Star wars'), ('Ano de lançamento', '1977'), ('Diretor', 'George Lucas')])\n",
      "o titulo é Star wars\n",
      "o Ano de lançamento é 1977\n",
      "o Diretor é George Lucas\n"
     ]
    }
   ],
   "source": [
    "filme={'titulo':'Star wars','Ano de lançamento': '1977', 'Diretor': 'George Lucas'}\n",
    "print(filme.values())\n",
    "print(filme.keys())\n",
    "print(filme.items())\n",
    "for k,v in filme.items():\n",
    "    print('o {} é {}'.format(k,v))"
   ]
  },
  {
   "cell_type": "code",
   "execution_count": 55,
   "id": "4f1f8ce2-d4d6-4999-8e86-febc541f01b2",
   "metadata": {},
   "outputs": [
    {
     "name": "stdout",
     "output_type": "stream",
     "text": [
      "dog é cachorro\n",
      "cat é gato\n",
      "pig é porco\n",
      "fish é peixe\n",
      "ball é bola\n"
     ]
    }
   ],
   "source": [
    "dicionarioinglesportuguesses = {'dog':'cachorro','cat':'gato'}\n",
    "dicionarioinglesportuguesses['pig']='porco'\n",
    "dicionarioinglesportuguesses['fish']='peixe'\n",
    "dicionarioinglesportuguesses['ball']='bola'\n",
    "for k,v in dicionarioinglesportuguesses.items():\n",
    "    print('{} é {}'.format(k,v))"
   ]
  },
  {
   "cell_type": "code",
   "execution_count": 60,
   "id": "312d57e9-63b6-48f4-940a-d74dd71578c8",
   "metadata": {},
   "outputs": [
    {
     "name": "stdin",
     "output_type": "stream",
     "text": [
      " 47\n"
     ]
    },
    {
     "name": "stdout",
     "output_type": "stream",
     "text": [
      "DDD nao cadastrdo\n"
     ]
    }
   ],
   "source": [
    "ddd = {61:'Brasilia',71:'Salvador',11:'Sao Paulo',21:'Rio de Janeiro',32:'Juiz de Fora',19:'Campinas',27:'Vitoria',31:'Belo Horizonte'}\n",
    "n = int(input())\n",
    "if n not in ddd: \n",
    "    print('DDD nao cadastrdo')\n",
    "else:\n",
    "    print(ddd[n])"
   ]
  },
  {
   "cell_type": "code",
   "execution_count": 69,
   "id": "e365ac1f-2c60-4d12-aa3b-ccee35772312",
   "metadata": {
    "scrolled": true
   },
   "outputs": [
    {
     "name": "stdin",
     "output_type": "stream",
     "text": [
      " 3\n",
      " 4 c\n",
      " 6 r\n",
      " 7 s\n"
     ]
    },
    {
     "name": "stdout",
     "output_type": "stream",
     "text": [
      "Total: 17 cobaias\n",
      "Total de coelhos: 8\n",
      "Total de ratos: 8\n",
      "Total de sapos: 11\n",
      "Percentual de coelhos: 47.06 %\n",
      "Percentual de ratos: 47.06 %\n",
      "Percentual de sapos: 64.71 %\n"
     ]
    }
   ],
   "source": [
    "tot_quantia = 0\n",
    "tot_rato = 0\n",
    "tot_sapo = 0\n",
    "tot_coelho = 0\n",
    "teste = int(input())\n",
    "for c in range(0, teste):\n",
    "    q = str(input()).split()\n",
    "    quantia = int(q[0])\n",
    "    cobaia = str(q[1]).upper()[0]\n",
    "    tot_quantia = tot_quantia + quantia\n",
    "    if cobaia in 'Rr':\n",
    "        tot_rato = tot_rato + quantia\n",
    "    if cobaia in 'Ss':\n",
    "        tot_sapo = tot_sapo + quantia\n",
    "    if cobaia in 'Cc':\n",
    "        tot_coelho = tot_coelho + quantia\n",
    "percent_rato = tot_rato/ tot_quantia * 100\n",
    "percent_sapo =tot_sapo/ tot_quantia * 100\n",
    "percent_coelho =tot_coelho/tot_quantia *100\n",
    "print('Total: {} cobaias'.format(tot_quantia))\n",
    "print('Total de coelhos: {}'.format(tot_coelho))\n",
    "print('Total de ratos: {}'.format(tot_rato))\n",
    "print('Total de sapos: {}'.format(tot_sapo))\n",
    "print('Percentual de coelhos: {:.2f} %'.format(percent_coelho))\n",
    "print('Percentual de ratos: {:.2f} %'.format(percent_rato))\n",
    "print('Percentual de sapos: {:.2f} %'.format(percent_sapo))"
   ]
  }
 ],
 "metadata": {
  "kernelspec": {
   "display_name": "Python 3 (ipykernel)",
   "language": "python",
   "name": "python3"
  },
  "language_info": {
   "codemirror_mode": {
    "name": "ipython",
    "version": 3
   },
   "file_extension": ".py",
   "mimetype": "text/x-python",
   "name": "python",
   "nbconvert_exporter": "python",
   "pygments_lexer": "ipython3",
   "version": "3.11.7"
  }
 },
 "nbformat": 4,
 "nbformat_minor": 5
}
