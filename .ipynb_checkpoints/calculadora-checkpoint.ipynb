{
 "cells": [
  {
   "cell_type": "code",
   "execution_count": 1,
   "id": "f45faa58-352c-41e8-8e17-58c9b18e8059",
   "metadata": {},
   "outputs": [],
   "source": [
    "def soma(x,y):\n",
    "    '''\n",
    "    param x = primeiro numero\n",
    "    param y = segundo numero\n",
    "    faze a soma entre x e y\n",
    "    ex: soma(1,2)\n",
    "    = 3\n",
    "    '''\n",
    "    return x+y\n",
    "\n",
    "def sub(x,y):\n",
    "    return x-y\n",
    "\n",
    "def mult(x,y):\n",
    "    return x*y\n",
    "\n",
    "def div(x,y):\n",
    "    return x/y"
   ]
  }
 ],
 "metadata": {
  "kernelspec": {
   "display_name": "Python 3 (ipykernel)",
   "language": "python",
   "name": "python3"
  },
  "language_info": {
   "codemirror_mode": {
    "name": "ipython",
    "version": 3
   },
   "file_extension": ".py",
   "mimetype": "text/x-python",
   "name": "python",
   "nbconvert_exporter": "python",
   "pygments_lexer": "ipython3",
   "version": "3.11.7"
  }
 },
 "nbformat": 4,
 "nbformat_minor": 5
}
