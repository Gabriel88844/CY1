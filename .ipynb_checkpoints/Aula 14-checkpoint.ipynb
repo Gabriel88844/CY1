{
 "cells": [
  {
   "cell_type": "code",
   "execution_count": 2,
   "id": "1e38f8bd-a2c9-467a-bc3d-1f7819ecedb2",
   "metadata": {},
   "outputs": [
    {
     "name": "stderr",
     "output_type": "stream",
     "text": [
      ".\n",
      "----------------------------------------------------------------------\n",
      "Ran 1 test in 0.001s\n",
      "\n",
      "OK\n"
     ]
    },
    {
     "data": {
      "text/plain": [
       "<unittest.main.TestProgram at 0x2c74fd68710>"
      ]
     },
     "execution_count": 2,
     "metadata": {},
     "output_type": "execute_result"
    }
   ],
   "source": [
    "import unittest\n",
    "from nome import sobrenomeNaOrdem\n",
    "\n",
    "class NomeTest(unittest.TestCase):\n",
    "    def test_sobrenomeNaOderm(self):\n",
    "        nomeCompleto = sobrenomeNaOrdem('Gabriel','yuichi','meneguette')\n",
    "        self.assertEqual(nomeCompleto,'Gabriel yuichi meneguette')\n",
    "unittest.main(argv=[''], exit = False)"
   ]
  },
  {
   "cell_type": "code",
   "execution_count": 3,
   "id": "87865383-d22b-4bfa-af29-8bad536ff0b4",
   "metadata": {},
   "outputs": [
    {
     "name": "stderr",
     "output_type": "stream",
     "text": [
      ".F\n",
      "======================================================================\n",
      "FAIL: test_sobrenomeNaOderm2 (__main__.NomeTest.test_sobrenomeNaOderm2)\n",
      "----------------------------------------------------------------------\n",
      "Traceback (most recent call last):\n",
      "  File \"C:\\Users\\Pichau\\AppData\\Local\\Temp\\ipykernel_7340\\1244158981.py\", line 11, in test_sobrenomeNaOderm2\n",
      "    self.assertEqual(nomeCompleto,'Flavio caça rato')\n",
      "AssertionError: 'Flavio rato caça' != 'Flavio caça rato'\n",
      "- Flavio rato caça\n",
      "+ Flavio caça rato\n",
      "\n",
      "\n",
      "----------------------------------------------------------------------\n",
      "Ran 2 tests in 0.002s\n",
      "\n",
      "FAILED (failures=1)\n"
     ]
    },
    {
     "data": {
      "text/plain": [
       "<unittest.main.TestProgram at 0x2c74f932210>"
      ]
     },
     "execution_count": 3,
     "metadata": {},
     "output_type": "execute_result"
    }
   ],
   "source": [
    "import unittest\n",
    "from nome import sobrenomeNaOrdem\n",
    "\n",
    "class NomeTest(unittest.TestCase):\n",
    "    def test_sobrenomeNaOrdem(self):\n",
    "        nomeCompleto = sobrenomeNaOrdem('Gabriel','yuichi','meneguette')\n",
    "        self.assertEqual(nomeCompleto,'Gabriel yuichi meneguette')\n",
    "\n",
    "    def test_sobrenomeNaOrdem2(self):\n",
    "        nomeCompleto = sobrenomeNaOrdem('Flavio','caça','rato')\n",
    "        self.assertEqual(nomeCompleto,'Flavio caça rato')\n",
    "        \n",
    "unittest.main(argv=[''], exit = False)"
   ]
  },
  {
   "cell_type": "code",
   "execution_count": 4,
   "id": "0478b226-6e25-4e81-8648-b5d698942a7c",
   "metadata": {},
   "outputs": [
    {
     "name": "stderr",
     "output_type": "stream",
     "text": [
      "F\n",
      "======================================================================\n",
      "FAIL: test_sobrenomeNaOderm (__main__.NomeTest.test_sobrenomeNaOderm)\n",
      "----------------------------------------------------------------------\n",
      "Traceback (most recent call last):\n",
      "  File \"C:\\Users\\Pichau\\AppData\\Local\\Temp\\ipykernel_7340\\3146779195.py\", line 7, in test_sobrenomeNaOderm\n",
      "    self.assertEqual(nomeCompleto,'Peter parker')\n",
      "AssertionError: 'Gabriel yuichi meneguette' != 'Peter parker'\n",
      "- Gabriel yuichi meneguette\n",
      "+ Peter parker\n",
      "\n",
      "\n",
      "----------------------------------------------------------------------\n",
      "Ran 1 test in 0.001s\n",
      "\n",
      "FAILED (failures=1)\n"
     ]
    },
    {
     "data": {
      "text/plain": [
       "<unittest.main.TestProgram at 0x2c7502b3350>"
      ]
     },
     "execution_count": 4,
     "metadata": {},
     "output_type": "execute_result"
    }
   ],
   "source": [
    "import unittest\n",
    "from nome import sobrenomeNaOrdem\n",
    "\n",
    "class NomeTest(unittest.TestCase):\n",
    "    def test_sobrenomeNaOderm(self):\n",
    "        nomeCompleto = sobrenomeNaOrdem('Gabriel','yuichi','meneguette')\n",
    "        self.assertEqual(nomeCompleto,'Peter parker')\n",
    "unittest.main(argv=[''], exit = False)"
   ]
  },
  {
   "cell_type": "code",
   "execution_count": 5,
   "id": "1f6a68aa-a5ad-468a-b8be-31ef0d8c240a",
   "metadata": {},
   "outputs": [
    {
     "name": "stderr",
     "output_type": "stream",
     "text": [
      ".\n",
      "----------------------------------------------------------------------\n",
      "Ran 1 test in 0.001s\n",
      "\n",
      "OK\n"
     ]
    },
    {
     "data": {
      "text/plain": [
       "<unittest.main.TestProgram at 0x2c750a414d0>"
      ]
     },
     "execution_count": 5,
     "metadata": {},
     "output_type": "execute_result"
    }
   ],
   "source": [
    "import unittest\n",
    "from nome import sobrenomeNaOrdem\n",
    "\n",
    "class NomeTest(unittest.TestCase):\n",
    "    def test_sobrenomeNaOderm(self):\n",
    "        nomeCompleto = sobrenomeNaOrdem('Gabriel','yuichi','meneguette')\n",
    "        self.assertNotEqual(nomeCompleto,'Peter parker')\n",
    "unittest.main(argv=[''], exit = False)"
   ]
  },
  {
   "cell_type": "code",
   "execution_count": 1,
   "id": "538ac404-e677-4af0-ad1d-d03d38fc0889",
   "metadata": {},
   "outputs": [
    {
     "name": "stderr",
     "output_type": "stream",
     "text": [
      "..\n",
      "----------------------------------------------------------------------\n",
      "Ran 2 tests in 0.001s\n",
      "\n",
      "OK\n"
     ]
    },
    {
     "name": "stdout",
     "output_type": "stream",
     "text": [
      "['O que aprendem os alunos da Ctrl+play?']\n",
      "['Programaçao, Robotica e muito mais']\n",
      "['O que aprendem os alunos da Ctrl+play?']\n",
      "['Programaçao, Robotica e muito mais']\n"
     ]
    },
    {
     "data": {
      "text/plain": [
       "<unittest.main.TestProgram at 0x1ecccdc0fd0>"
      ]
     },
     "execution_count": 1,
     "metadata": {},
     "output_type": "execute_result"
    }
   ],
   "source": [
    "import unittest\n",
    "from exame import Prova\n",
    "\n",
    "class ProvaTest(unittest.TestCase):\n",
    "\n",
    "    def setUp (self):\n",
    "        self.questao = 'O que aprendem os alunos da Ctrl+play?'\n",
    "        self.resposta = 'Programaçao, Robotica e muito mais'\n",
    "        self.p = Prova()\n",
    "        self.p.armazena_Questao_Resposta(self.questao, self.resposta)\n",
    "        self.p.mostra_Questoes()\n",
    "        self.p.mostra_Respostas()\n",
    "\n",
    "    def test_armazenaQuestao(self):\n",
    "        self.assertIn('O que aprendem os alunos da Ctrl+play?', self.p.questoes)\n",
    "\n",
    "    def test_armazenaResposta(self):\n",
    "        self.assertIn('Programaçao, Robotica e muito mais', self.p.respostas)\n",
    "        \n",
    "\n",
    "unittest.main(argv=[''], exit = False)\n"
   ]
  }
 ],
 "metadata": {
  "kernelspec": {
   "display_name": "Python 3 (ipykernel)",
   "language": "python",
   "name": "python3"
  },
  "language_info": {
   "codemirror_mode": {
    "name": "ipython",
    "version": 3
   },
   "file_extension": ".py",
   "mimetype": "text/x-python",
   "name": "python",
   "nbconvert_exporter": "python",
   "pygments_lexer": "ipython3",
   "version": "3.11.7"
  }
 },
 "nbformat": 4,
 "nbformat_minor": 5
}
