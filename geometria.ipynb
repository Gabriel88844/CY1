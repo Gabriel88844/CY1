{
 "cells": [
  {
   "cell_type": "code",
   "execution_count": 8,
   "id": "2b916a8a-38ab-46cb-a728-f5863538a5af",
   "metadata": {},
   "outputs": [],
   "source": [
    "import math\n",
    "def areaCirculo(r):\n",
    "    return math.pi*math.pow (r,2)\n",
    "    "
   ]
  }
 ],
 "metadata": {
  "kernelspec": {
   "display_name": "Python 3 (ipykernel)",
   "language": "python",
   "name": "python3"
  },
  "language_info": {
   "codemirror_mode": {
    "name": "ipython",
    "version": 3
   },
   "file_extension": ".py",
   "mimetype": "text/x-python",
   "name": "python",
   "nbconvert_exporter": "python",
   "pygments_lexer": "ipython3",
   "version": "3.11.7"
  }
 },
 "nbformat": 4,
 "nbformat_minor": 5
}
