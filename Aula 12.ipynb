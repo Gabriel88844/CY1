{
 "cells": [
  {
   "cell_type": "code",
   "execution_count": 2,
   "id": "f2f4a930-6f00-4b7b-b11a-6da85047b779",
   "metadata": {},
   "outputs": [
    {
     "name": "stdout",
     "output_type": "stream",
     "text": [
      "Endereço Completo: Rua Professor Fabio de Souza, Santa Quiteria - cep: 80000-300\n"
     ]
    }
   ],
   "source": [
    "class Casa ():\n",
    "    rua= ' '\n",
    "    bairro= 'Santa Quiteria'\n",
    "    cep= '80000-300'\n",
    "\n",
    "    def enderecoCompleto(self):\n",
    "        return 'Endereço Completo: {}, {} - cep: {}'.format(self.rua, self.bairro, self.cep)\n",
    "\n",
    "#Programa Principal\n",
    "casa1 = Casa()\n",
    "print(casa1.enderecoCompleto())"
   ]
  },
  {
   "cell_type": "code",
   "execution_count": 4,
   "id": "65e784c8-f763-49a6-a2f2-c4273403cf87",
   "metadata": {},
   "outputs": [
    {
     "name": "stdout",
     "output_type": "stream",
     "text": [
      "<class 'int'>\n",
      "<class 'list'>\n"
     ]
    }
   ],
   "source": [
    "numero = 1\n",
    "print(type(numero))\n",
    "lista=[1,2,3]\n",
    "print(type(lista))"
   ]
  },
  {
   "cell_type": "code",
   "execution_count": 7,
   "id": "cc39d1b2-58e8-4f82-98e6-5a40803ea62e",
   "metadata": {},
   "outputs": [],
   "source": [
    "class Casa():\n",
    "    def __init__(self, rua, bairro, CEP):\n",
    "        self.rua = rua\n",
    "        self.bairro = bairro\n",
    "        self.CEP= CEP\n",
    "\n",
    "    def enderecoCompleto(self):\n",
    "        return 'Endereço Completo: {}, {}: {}'.format(self.rua, self.bairro, self.CEP)\n",
    "\n",
    "#programa principal\n",
    "casa1 = Casa(rua = 'Av. Winston Churchill', bairro = 'Capão Raso', CEP = '81130-000')\n",
    "casa2 = Casa(rua = 'Av.Sete de Setembro',bairro = 'Centro', CEP = '80060-070')\n",
    "casa3 = Casa(rua = 'Rua Professor Fabio de Souza',bairro = 'Santa Quiteria', CEP = '80000-300')"
   ]
  },
  {
   "cell_type": "code",
   "execution_count": 11,
   "id": "93c1b093-bd86-4b69-b3b0-a167a0f39079",
   "metadata": {},
   "outputs": [
    {
     "name": "stdin",
     "output_type": "stream",
     "text": [
      "Qual é o seu personagem Caça rato\n"
     ]
    },
    {
     "name": "stdout",
     "output_type": "stream",
     "text": [
      "Prazer, Caça rato. Você entrou na toca do rato!, onde ratos gigantes habitam\n",
      "~~~~~~~~~~~~~~~~~~~~~~~~~~~~~~~~~~~~~~~~~~~~~~~~~~\n",
      "Cuidado!!!,os Ratos entraram na toca\n",
      "~~~~~~~~~~~~~~~~~~~~~~~~~~~~~~~~~~~~~~~~~~~~~~~~~~\n",
      "\n",
      "                Opções:\n",
      "                [1] Explorar a proxima sala da toca\n",
      "                [2] Mostrar status\n",
      "                [3] Abrir bolsa\n",
      "                [4] Sair\n",
      "                \n"
     ]
    },
    {
     "name": "stdin",
     "output_type": "stream",
     "text": [
      "Qual a sua opção?  3\n"
     ]
    },
    {
     "name": "stdout",
     "output_type": "stream",
     "text": [
      "Seus itens são : ['chuteira do caça rato', 'camiseta do santa cruz']\n",
      "\n",
      "                Opções:\n",
      "                [1] Explorar a proxima sala da toca\n",
      "                [2] Mostrar status\n",
      "                [3] Abrir bolsa\n",
      "                [4] Sair\n",
      "                \n"
     ]
    },
    {
     "ename": "KeyboardInterrupt",
     "evalue": "Interrupted by user",
     "output_type": "error",
     "traceback": [
      "\u001b[1;31m---------------------------------------------------------------------------\u001b[0m",
      "\u001b[1;31mKeyboardInterrupt\u001b[0m                         Traceback (most recent call last)",
      "Cell \u001b[1;32mIn[11], line 67\u001b[0m\n\u001b[0;32m     65\u001b[0m \u001b[38;5;28mprint\u001b[39m(\u001b[38;5;124m'\u001b[39m\u001b[38;5;124m~\u001b[39m\u001b[38;5;124m'\u001b[39m\u001b[38;5;241m*\u001b[39m\u001b[38;5;241m50\u001b[39m)\n\u001b[0;32m     66\u001b[0m jogo \u001b[38;5;241m=\u001b[39m Calabouço(jogador , inimigos)\n\u001b[1;32m---> 67\u001b[0m jogo\u001b[38;5;241m.\u001b[39mjogar()\n",
      "Cell \u001b[1;32mIn[11], line 36\u001b[0m, in \u001b[0;36mCalabouço.jogar\u001b[1;34m(self)\u001b[0m\n\u001b[0;32m     28\u001b[0m \u001b[38;5;28;01mwhile\u001b[39;00m \u001b[38;5;28;01mTrue\u001b[39;00m:\n\u001b[0;32m     29\u001b[0m     \u001b[38;5;28mprint\u001b[39m(\u001b[38;5;124m'''\u001b[39m\n\u001b[0;32m     30\u001b[0m \u001b[38;5;124m        Opções:\u001b[39m\n\u001b[0;32m     31\u001b[0m \u001b[38;5;124m        [1] Explorar a proxima sala da toca\u001b[39m\n\u001b[1;32m   (...)\u001b[0m\n\u001b[0;32m     34\u001b[0m \u001b[38;5;124m        [4] Sair\u001b[39m\n\u001b[0;32m     35\u001b[0m \u001b[38;5;124m        \u001b[39m\u001b[38;5;124m'''\u001b[39m)\n\u001b[1;32m---> 36\u001b[0m     opcao \u001b[38;5;241m=\u001b[39m \u001b[38;5;28minput\u001b[39m(\u001b[38;5;124m'\u001b[39m\u001b[38;5;124mQual a sua opção? \u001b[39m\u001b[38;5;124m'\u001b[39m)\n\u001b[0;32m     38\u001b[0m     \u001b[38;5;28;01mif\u001b[39;00m opcao \u001b[38;5;241m==\u001b[39m \u001b[38;5;124m'\u001b[39m\u001b[38;5;124m1\u001b[39m\u001b[38;5;124m'\u001b[39m:\n\u001b[0;32m     39\u001b[0m         \u001b[38;5;28mself\u001b[39m\u001b[38;5;241m.\u001b[39menfrentarInimigo()\n",
      "File \u001b[1;32m~\\anaconda3\\Lib\\site-packages\\ipykernel\\kernelbase.py:1262\u001b[0m, in \u001b[0;36mKernel.raw_input\u001b[1;34m(self, prompt)\u001b[0m\n\u001b[0;32m   1260\u001b[0m     msg \u001b[38;5;241m=\u001b[39m \u001b[38;5;124m\"\u001b[39m\u001b[38;5;124mraw_input was called, but this frontend does not support input requests.\u001b[39m\u001b[38;5;124m\"\u001b[39m\n\u001b[0;32m   1261\u001b[0m     \u001b[38;5;28;01mraise\u001b[39;00m StdinNotImplementedError(msg)\n\u001b[1;32m-> 1262\u001b[0m \u001b[38;5;28;01mreturn\u001b[39;00m \u001b[38;5;28mself\u001b[39m\u001b[38;5;241m.\u001b[39m_input_request(\n\u001b[0;32m   1263\u001b[0m     \u001b[38;5;28mstr\u001b[39m(prompt),\n\u001b[0;32m   1264\u001b[0m     \u001b[38;5;28mself\u001b[39m\u001b[38;5;241m.\u001b[39m_parent_ident[\u001b[38;5;124m\"\u001b[39m\u001b[38;5;124mshell\u001b[39m\u001b[38;5;124m\"\u001b[39m],\n\u001b[0;32m   1265\u001b[0m     \u001b[38;5;28mself\u001b[39m\u001b[38;5;241m.\u001b[39mget_parent(\u001b[38;5;124m\"\u001b[39m\u001b[38;5;124mshell\u001b[39m\u001b[38;5;124m\"\u001b[39m),\n\u001b[0;32m   1266\u001b[0m     password\u001b[38;5;241m=\u001b[39m\u001b[38;5;28;01mFalse\u001b[39;00m,\n\u001b[0;32m   1267\u001b[0m )\n",
      "File \u001b[1;32m~\\anaconda3\\Lib\\site-packages\\ipykernel\\kernelbase.py:1305\u001b[0m, in \u001b[0;36mKernel._input_request\u001b[1;34m(self, prompt, ident, parent, password)\u001b[0m\n\u001b[0;32m   1302\u001b[0m \u001b[38;5;28;01mexcept\u001b[39;00m \u001b[38;5;167;01mKeyboardInterrupt\u001b[39;00m:\n\u001b[0;32m   1303\u001b[0m     \u001b[38;5;66;03m# re-raise KeyboardInterrupt, to truncate traceback\u001b[39;00m\n\u001b[0;32m   1304\u001b[0m     msg \u001b[38;5;241m=\u001b[39m \u001b[38;5;124m\"\u001b[39m\u001b[38;5;124mInterrupted by user\u001b[39m\u001b[38;5;124m\"\u001b[39m\n\u001b[1;32m-> 1305\u001b[0m     \u001b[38;5;28;01mraise\u001b[39;00m \u001b[38;5;167;01mKeyboardInterrupt\u001b[39;00m(msg) \u001b[38;5;28;01mfrom\u001b[39;00m \u001b[38;5;28;01mNone\u001b[39;00m\n\u001b[0;32m   1306\u001b[0m \u001b[38;5;28;01mexcept\u001b[39;00m \u001b[38;5;167;01mException\u001b[39;00m:\n\u001b[0;32m   1307\u001b[0m     \u001b[38;5;28mself\u001b[39m\u001b[38;5;241m.\u001b[39mlog\u001b[38;5;241m.\u001b[39mwarning(\u001b[38;5;124m\"\u001b[39m\u001b[38;5;124mInvalid Message:\u001b[39m\u001b[38;5;124m\"\u001b[39m, exc_info\u001b[38;5;241m=\u001b[39m\u001b[38;5;28;01mTrue\u001b[39;00m)\n",
      "\u001b[1;31mKeyboardInterrupt\u001b[0m: Interrupted by user"
     ]
    }
   ],
   "source": [
    "import random\n",
    "\n",
    "class Jogador():\n",
    "    def __init__(self, nome):\n",
    "        self.nome = nome\n",
    "        self.vida = 75\n",
    "        self.ataque = 15\n",
    "        self.defesa = 3\n",
    "        self.itens = []\n",
    "    def mostrarStatus(self):\n",
    "        print('Sua vida é {}'.format(self.vida))\n",
    "        print('Sue ataque é {}'.format(self.ataque))\n",
    "        print('Sua defesa é {}'.format(self.defesa))\n",
    "\n",
    "    def pegarItem(self, item_encontrado):\n",
    "        \n",
    "\n",
    "class Inimigo():\n",
    "    def __init__(self, nome, vida, ataque, defesa):\n",
    "        self.nome = nome\n",
    "        self.vida = vida\n",
    "        self.ataque = ataque\n",
    "        self.defesa = defesa\n",
    "\n",
    "class Calabouço():\n",
    "    def __init__(self, jogador, inimigos):\n",
    "        self.jogador = jogador\n",
    "        self.inimigo = random.choice(inimigos)\n",
    "        self.itens = ['chuteira do caça rato','camiseta do santa cruz']\n",
    "    def jogar (self):\n",
    "        while True:\n",
    "            print('''\n",
    "                Opções:\n",
    "                [1] Explorar a proxima sala da toca\n",
    "                [2] Mostrar status\n",
    "                [3] Abrir bolsa\n",
    "                [4] Sair\n",
    "                ''')\n",
    "            opcao = input('Qual a sua opção? ')\n",
    "\n",
    "            if opcao == '1':\n",
    "                self.enfrentarInimigo()\n",
    "            elif opcao == '2':\n",
    "                self.jogador.mostrarStatus()\n",
    "            elif opcao == '3':\n",
    "                self.mostrarItensnabolsa()\n",
    "            elif opcao == '4':\n",
    "                print('Obrigado por jogar')\n",
    "                break\n",
    "            else:\n",
    "                print('opção invalida.Digite novamente')\n",
    "\n",
    "    def enfrentarInimigo(self):\n",
    "        print('Rato derrotado')\n",
    "\n",
    "    def mostrarItensnabolsa(self):\n",
    "        print('Seus itens são : {}'.format(self.itens))\n",
    "    \n",
    "\n",
    "#Programa principal\n",
    "nome_jogador = input('Qual é o seu personagem')\n",
    "print('Prazer, {}. Você entrou na toca do rato!, onde ratos gigantes habitam'.format(nome_jogador))\n",
    "jogador = Jogador(nome_jogador)\n",
    "\n",
    "inimigos = [Inimigo('rato fraco',10, 5, 5), Inimigo('rato grande',20, 10, 7), Inimigo('cavaleiro ratazana',30, 20, 12)]\n",
    "print('~'*50)\n",
    "print('Cuidado!!!,os Ratos entraram na toca')\n",
    "print('~'*50)\n",
    "jogo = Calabouço(jogador , inimigos)\n",
    "jogo.jogar()"
   ]
  },
  {
   "cell_type": "code",
   "execution_count": null,
   "id": "d5b7050b-f578-460f-bbf1-fe1fd98b31c4",
   "metadata": {},
   "outputs": [],
   "source": []
  }
 ],
 "metadata": {
  "kernelspec": {
   "display_name": "Python 3 (ipykernel)",
   "language": "python",
   "name": "python3"
  },
  "language_info": {
   "codemirror_mode": {
    "name": "ipython",
    "version": 3
   },
   "file_extension": ".py",
   "mimetype": "text/x-python",
   "name": "python",
   "nbconvert_exporter": "python",
   "pygments_lexer": "ipython3",
   "version": "3.11.7"
  }
 },
 "nbformat": 4,
 "nbformat_minor": 5
}
