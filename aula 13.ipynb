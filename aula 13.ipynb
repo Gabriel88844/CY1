{
 "cells": [
  {
   "cell_type": "code",
   "execution_count": 5,
   "id": "aff6006a-f2bc-4add-8d05-66ad7d1d10f7",
   "metadata": {},
   "outputs": [
    {
     "name": "stdout",
     "output_type": "stream",
     "text": [
      "100\n",
      "35\n",
      "25\n",
      "100\n",
      "15\n",
      "100\n",
      "35\n",
      "25\n",
      "50\n"
     ]
    }
   ],
   "source": [
    "class Jogador():\n",
    "    vida = 100\n",
    "    __ataque = 35\n",
    "    __defesa = 25\n",
    "    def __init__(self):\n",
    "        print(self.vida)\n",
    "        print(self.__ataque)\n",
    "        print(self.__defesa)\n",
    "        \n",
    "    def setAtaque(self, a):\n",
    "        self.__ataque = a\n",
    "\n",
    "    def getAtaque(self):\n",
    "        return self.__ataque\n",
    "#programa principal\n",
    "jogador = Jogador()\n",
    "print(jogador.vida)\n",
    "jogador.setAtaque(15)\n",
    "print(jogador.getAtaque())\n",
    "\n",
    "cavaleiro = Jogador()\n",
    "cavaleiro.setAtaque(50)\n",
    "print(cavaleiro.getAtaque())"
   ]
  },
  {
   "cell_type": "code",
   "execution_count": 7,
   "id": "3806065b-1ca8-4c44-96ff-d942f204ddf0",
   "metadata": {},
   "outputs": [
    {
     "name": "stdout",
     "output_type": "stream",
     "text": [
      "animal criado\n",
      "T rex criado\n",
      "t rex\n",
      "rugindo\n"
     ]
    }
   ],
   "source": [
    "class Animal():\n",
    "    def __init__ (self):\n",
    "        print('animal criado')\n",
    "\n",
    "    def oQueSou(self):\n",
    "        print('Animal')\n",
    "\n",
    "    def come(self):\n",
    "        print('comendo')\n",
    "\n",
    "class Trex(Animal):\n",
    "    def __init__(self):\n",
    "        Animal.__init__(self)\n",
    "        print('T rex criado')\n",
    "    def oQueSou(self):\n",
    "        print('t rex')\n",
    "    def rugir(self):\n",
    "        print('rugindo')\n",
    "\n",
    "#programa principal \n",
    "trex = Trex()\n",
    "trex.oQueSou()\n",
    "trex.rugir()"
   ]
  },
  {
   "cell_type": "code",
   "execution_count": 11,
   "id": "c4e797c0-1a1f-4c82-842d-b05e254ebfb5",
   "metadata": {},
   "outputs": [
    {
     "name": "stdout",
     "output_type": "stream",
     "text": [
      "nissan sky line r34 1,660 ton Corre\n",
      "Boing 737 26,488 ton Voa\n",
      "bike 21kg Pedala\n"
     ]
    }
   ],
   "source": [
    "class MeioTransporte():\n",
    "    def __init__(self, tipo, peso):\n",
    "        self.tipo = tipo\n",
    "        self.peso = peso\n",
    "\n",
    "    def mover(self):\n",
    "        pass\n",
    "\n",
    "class Rodoviario(MeioTransporte):\n",
    "\n",
    "    def mover(self):\n",
    "        return 'Corre'\n",
    "\n",
    "class Aereo(MeioTransporte):\n",
    "    def mover(self):\n",
    "        return 'Voa'\n",
    "\n",
    "class Bicicleta(MeioTransporte):\n",
    "    def mover(self):\n",
    "        return 'Pedala'\n",
    "\n",
    "#programa principal\n",
    "c = Rodoviario('nissan sky line r34', '1,660 ton')\n",
    "print(c.tipo, c.peso, c.mover())\n",
    "\n",
    "a = Aereo('Boing 737','26,488 ton')\n",
    "print(a.tipo ,a.peso ,a.mover())\n",
    "\n",
    "b = Bicicleta('bike','21kg')\n",
    "print(b.tipo ,b.peso ,b.mover())"
   ]
  },
  {
   "cell_type": "code",
   "execution_count": 13,
   "id": "8d568db8-ce23-43b2-bc60-30f595900ce9",
   "metadata": {},
   "outputs": [
    {
     "name": "stdin",
     "output_type": "stream",
     "text": [
      " vertebrado\n",
      " mamifero\n",
      " herbivoro\n"
     ]
    },
    {
     "name": "stdout",
     "output_type": "stream",
     "text": [
      "vaca\n"
     ]
    }
   ],
   "source": [
    "class Animal():\n",
    "    def __init__ (self, filo, classificaçao, ordem):\n",
    "        self.filo = filo\n",
    "        self.classificaçao = classificaçao\n",
    "        self.ordem = ordem\n",
    "    def conclusao(self):\n",
    "        pass\n",
    "class vertebrados (Animal):\n",
    "    def __init__(self, filo, classificaçao, ordem):\n",
    "        super().__init__(filo, classificaçao, ordem)\n",
    "    def conclusao(self):\n",
    "        if self.classificaçao == 'ave':\n",
    "            if self.ordem == 'carnivoro':\n",
    "                print('aguia')\n",
    "            if self.ordem =='onivoro':\n",
    "                print(pomba)\n",
    "        if self.classificaçao == 'mamifero':\n",
    "            if self.ordem == 'onivoro':\n",
    "                print('homem')\n",
    "            if self.ordem == 'herbivoro':\n",
    "                print('vaca')\n",
    "\n",
    "class Invertebrados(Animal):\n",
    "\n",
    "    def __ini__(self, filo, classificaçao, ordem):\n",
    "        super().__init__(filo, classificaçao, ordem)\n",
    "    def conclusao(self):\n",
    "        if self.classificaçao == 'inceto':\n",
    "            if self.ordem == 'hematofago':\n",
    "                print('pulga')\n",
    "            if self.ordem == 'herbivoro':\n",
    "                print('lagarta')\n",
    "        if self.classificaçao == 'anelidio':\n",
    "            if self.ordem == 'hematofago':\n",
    "                print('sangue suga')\n",
    "            if self.ordem == 'onivoro':\n",
    "                print('minhoca')\n",
    "\n",
    "#programa principal\n",
    "filo = input()\n",
    "classificaçao = input()\n",
    "ordem = input ()\n",
    "if filo == 'vertebrado':\n",
    "    a = vertebrados(filo, classificaçao, ordem)\n",
    "    a.conclusao()\n",
    "else:\n",
    "    a = invertebrados(filo, classificaçao, ordem)\n",
    "    a.conclusao()\n",
    "\n"
   ]
  },
  {
   "cell_type": "code",
   "execution_count": 5,
   "id": "3aaf73ac-7d36-473f-8003-01de212d3142",
   "metadata": {},
   "outputs": [
    {
     "name": "stdin",
     "output_type": "stream",
     "text": [
      " -1\n"
     ]
    },
    {
     "name": "stdout",
     "output_type": "stream",
     "text": [
      "nota invalida\n"
     ]
    },
    {
     "name": "stdin",
     "output_type": "stream",
     "text": [
      " 12\n"
     ]
    },
    {
     "name": "stdout",
     "output_type": "stream",
     "text": [
      "nota invalida\n"
     ]
    },
    {
     "name": "stdin",
     "output_type": "stream",
     "text": [
      " 4132\n"
     ]
    },
    {
     "name": "stdout",
     "output_type": "stream",
     "text": [
      "nota invalida\n"
     ]
    },
    {
     "name": "stdin",
     "output_type": "stream",
     "text": [
      " 34\n"
     ]
    },
    {
     "name": "stdout",
     "output_type": "stream",
     "text": [
      "nota invalida\n"
     ]
    },
    {
     "ename": "KeyboardInterrupt",
     "evalue": "Interrupted by user",
     "output_type": "error",
     "traceback": [
      "\u001b[1;31m---------------------------------------------------------------------------\u001b[0m",
      "\u001b[1;31mKeyboardInterrupt\u001b[0m                         Traceback (most recent call last)",
      "Cell \u001b[1;32mIn[5], line 17\u001b[0m\n\u001b[0;32m     15\u001b[0m     nota \u001b[38;5;241m=\u001b[39m \u001b[38;5;28mfloat\u001b[39m(\u001b[38;5;28minput\u001b[39m())\n\u001b[0;32m     16\u001b[0m     validacao \u001b[38;5;241m=\u001b[39m Nota(nota, lista)\n\u001b[1;32m---> 17\u001b[0m     validacao\u001b[38;5;241m.\u001b[39mvalidaNota()\n\u001b[0;32m     18\u001b[0m soma \u001b[38;5;241m=\u001b[39m \u001b[38;5;28msum\u001b[39m(lista)\n\u001b[0;32m     19\u001b[0m media \u001b[38;5;241m=\u001b[39m soma \u001b[38;5;241m/\u001b[39m \u001b[38;5;28mlen\u001b[39m(lista)\n",
      "Cell \u001b[1;32mIn[5], line 12\u001b[0m, in \u001b[0;36mNota.validaNota\u001b[1;34m(self)\u001b[0m\n\u001b[0;32m     10\u001b[0m \u001b[38;5;28;01melse\u001b[39;00m :\n\u001b[0;32m     11\u001b[0m     \u001b[38;5;28mprint\u001b[39m(\u001b[38;5;124m'\u001b[39m\u001b[38;5;124mnota invalida\u001b[39m\u001b[38;5;124m'\u001b[39m)\n\u001b[1;32m---> 12\u001b[0m     \u001b[38;5;28mself\u001b[39m\u001b[38;5;241m.\u001b[39mnota \u001b[38;5;241m=\u001b[39m \u001b[38;5;28mfloat\u001b[39m(\u001b[38;5;28minput\u001b[39m())\n",
      "File \u001b[1;32m~\\anaconda3\\Lib\\site-packages\\ipykernel\\kernelbase.py:1262\u001b[0m, in \u001b[0;36mKernel.raw_input\u001b[1;34m(self, prompt)\u001b[0m\n\u001b[0;32m   1260\u001b[0m     msg \u001b[38;5;241m=\u001b[39m \u001b[38;5;124m\"\u001b[39m\u001b[38;5;124mraw_input was called, but this frontend does not support input requests.\u001b[39m\u001b[38;5;124m\"\u001b[39m\n\u001b[0;32m   1261\u001b[0m     \u001b[38;5;28;01mraise\u001b[39;00m StdinNotImplementedError(msg)\n\u001b[1;32m-> 1262\u001b[0m \u001b[38;5;28;01mreturn\u001b[39;00m \u001b[38;5;28mself\u001b[39m\u001b[38;5;241m.\u001b[39m_input_request(\n\u001b[0;32m   1263\u001b[0m     \u001b[38;5;28mstr\u001b[39m(prompt),\n\u001b[0;32m   1264\u001b[0m     \u001b[38;5;28mself\u001b[39m\u001b[38;5;241m.\u001b[39m_parent_ident[\u001b[38;5;124m\"\u001b[39m\u001b[38;5;124mshell\u001b[39m\u001b[38;5;124m\"\u001b[39m],\n\u001b[0;32m   1265\u001b[0m     \u001b[38;5;28mself\u001b[39m\u001b[38;5;241m.\u001b[39mget_parent(\u001b[38;5;124m\"\u001b[39m\u001b[38;5;124mshell\u001b[39m\u001b[38;5;124m\"\u001b[39m),\n\u001b[0;32m   1266\u001b[0m     password\u001b[38;5;241m=\u001b[39m\u001b[38;5;28;01mFalse\u001b[39;00m,\n\u001b[0;32m   1267\u001b[0m )\n",
      "File \u001b[1;32m~\\anaconda3\\Lib\\site-packages\\ipykernel\\kernelbase.py:1305\u001b[0m, in \u001b[0;36mKernel._input_request\u001b[1;34m(self, prompt, ident, parent, password)\u001b[0m\n\u001b[0;32m   1302\u001b[0m \u001b[38;5;28;01mexcept\u001b[39;00m \u001b[38;5;167;01mKeyboardInterrupt\u001b[39;00m:\n\u001b[0;32m   1303\u001b[0m     \u001b[38;5;66;03m# re-raise KeyboardInterrupt, to truncate traceback\u001b[39;00m\n\u001b[0;32m   1304\u001b[0m     msg \u001b[38;5;241m=\u001b[39m \u001b[38;5;124m\"\u001b[39m\u001b[38;5;124mInterrupted by user\u001b[39m\u001b[38;5;124m\"\u001b[39m\n\u001b[1;32m-> 1305\u001b[0m     \u001b[38;5;28;01mraise\u001b[39;00m \u001b[38;5;167;01mKeyboardInterrupt\u001b[39;00m(msg) \u001b[38;5;28;01mfrom\u001b[39;00m \u001b[38;5;28;01mNone\u001b[39;00m\n\u001b[0;32m   1306\u001b[0m \u001b[38;5;28;01mexcept\u001b[39;00m \u001b[38;5;167;01mException\u001b[39;00m:\n\u001b[0;32m   1307\u001b[0m     \u001b[38;5;28mself\u001b[39m\u001b[38;5;241m.\u001b[39mlog\u001b[38;5;241m.\u001b[39mwarning(\u001b[38;5;124m\"\u001b[39m\u001b[38;5;124mInvalid Message:\u001b[39m\u001b[38;5;124m\"\u001b[39m, exc_info\u001b[38;5;241m=\u001b[39m\u001b[38;5;28;01mTrue\u001b[39;00m)\n",
      "\u001b[1;31mKeyboardInterrupt\u001b[0m: Interrupted by user"
     ]
    }
   ],
   "source": [
    "class Nota():\n",
    "    def __init__(self, nota,lista):\n",
    "        self.nota = nota\n",
    "        self.lista = lista\n",
    "    def validaNota(self):\n",
    "        while True:\n",
    "            if 0 <= self.nota <= 10:\n",
    "                self.lista.append(self.nota)\n",
    "                break\n",
    "            else :\n",
    "                print('nota invalida')\n",
    "                self.nota = float(input())\n",
    "lista=[]\n",
    "while len(lista) < 2:\n",
    "    nota = float(input())\n",
    "    validacao = Nota(nota, lista)\n",
    "    validacao.validaNota()\n",
    "soma = sum(lista)\n",
    "media = soma / len(lista)\n",
    "print('media = {:.2f}'.format(media))"
   ]
  },
  {
   "cell_type": "code",
   "execution_count": null,
   "id": "10798b25-d283-41c7-8403-eee05e56baf0",
   "metadata": {},
   "outputs": [],
   "source": []
  }
 ],
 "metadata": {
  "kernelspec": {
   "display_name": "Python 3 (ipykernel)",
   "language": "python",
   "name": "python3"
  },
  "language_info": {
   "codemirror_mode": {
    "name": "ipython",
    "version": 3
   },
   "file_extension": ".py",
   "mimetype": "text/x-python",
   "name": "python",
   "nbconvert_exporter": "python",
   "pygments_lexer": "ipython3",
   "version": "3.11.7"
  }
 },
 "nbformat": 4,
 "nbformat_minor": 5
}
